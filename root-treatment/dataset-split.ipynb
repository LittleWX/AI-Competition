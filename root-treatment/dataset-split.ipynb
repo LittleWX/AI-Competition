{
 "cells": [
  {
   "cell_type": "code",
   "execution_count": 1,
   "metadata": {},
   "outputs": [
    {
     "name": "stdout",
     "output_type": "stream",
     "text": [
      "1.0.1.post2\n"
     ]
    }
   ],
   "source": [
    "import os\n",
    "import random\n",
    "from tqdm import tqdm\n",
    "import torch\n",
    "\n",
    "print(torch.__version__)"
   ]
  },
  {
   "cell_type": "code",
   "execution_count": 82,
   "metadata": {},
   "outputs": [],
   "source": [
    "# consts\n",
    "split_name = 'voc-1'\n",
    "root_path = '/home/voyager/data/root/voc/'\n",
    "train_ratio = 0.8\n",
    "\n",
    "image_path = os.path.join(root_path, 'JPEGImages')\n",
    "anno_path = os.path.join(root_path, 'Annotations')\n",
    "split_path = os.path.join(root_path, 'ImageSets/Main')\n",
    "\n",
    "# list annotation\n",
    "anno_file_list = os.listdir(anno_path)\n",
    "anno_list = [anno_file.split('.')[0] for anno_file in anno_file_list]\n",
    "\n",
    "# sample\n",
    "train_list = random.sample(anno_list, int(len(anno_list) * train_ratio))\n",
    "\n",
    "val_list = []\n",
    "for anno in anno_list:\n",
    "    if anno not in train_list:\n",
    "        val_list.append(anno)\n",
    "        \n",
    "# save\n",
    "with open(os.path.join(split_path, '{}_{}.txt'.format(\n",
    "    split_name,\n",
    "    'train'\n",
    ")), 'w') as train_file:\n",
    "    for train_anno in train_list:\n",
    "        train_file.write('{}\\n'.format(train_anno))\n",
    "        \n",
    "with open(os.path.join(split_path, '{}_{}.txt'.format(\n",
    "    split_name,\n",
    "    'val'\n",
    ")), 'w') as val_file:\n",
    "    for val_anno in val_list:\n",
    "        val_file.write('{}\\n'.format(val_anno))\n",
    "        "
   ]
  },
  {
   "cell_type": "markdown",
   "metadata": {},
   "source": [
    "## some dirty work"
   ]
  },
  {
   "cell_type": "code",
   "execution_count": 68,
   "metadata": {},
   "outputs": [],
   "source": [
    "import PIL.Image\n",
    "import uuid\n",
    "\n",
    "# convert to jpg\n",
    "def convert_imgs(img_path):\n",
    "    img_list = os.listdir(img_path)\n",
    "    \n",
    "    for filename in tqdm(img_list):\n",
    "        arr = filename.split('.')\n",
    "\n",
    "        im = PIL.Image.open(os.path.join(img_path, filename))\n",
    "        \n",
    "        # we have read image, remove the original one\n",
    "        os.remove(os.path.join(img_path, filename))\n",
    "        \n",
    "        im = im.convert('RGB')\n",
    "        im.save(os.path.join(img_path, '{}.jpg'.format(arr[0])))\n",
    "        \n",
    "# rename with uuid\n",
    "def convert_names(root_path, no):\n",
    "    img_path = os.path.join(root_path, 'img_{}/'.format(no))\n",
    "    anno_path = os.path.join(root_path, 'anno_{}/'.format(no))\n",
    "    \n",
    "    img_list = os.listdir(img_path)\n",
    "    anno_list = os.listdir(anno_path)\n",
    "    \n",
    "    table = []\n",
    "    \n",
    "    for anno_file in tqdm(anno_list):\n",
    "        arr = anno_file.split('.')\n",
    "        name = arr[0]\n",
    "        \n",
    "        if len(name.split('-')) > 1:\n",
    "            score = int(name.split('-')[1])\n",
    "        elif len(name.split('(')) > 1:\n",
    "            score = name.split('(')[1]\n",
    "            score = int(score.split(')')[0])\n",
    "        elif len(name.split('（')) > 1:\n",
    "            score = name.split('（')[1]\n",
    "            score = int(score.split('）')[0])\n",
    "        else:\n",
    "            print(name)\n",
    "            \n",
    "        uid = uuid.uuid4()\n",
    "        \n",
    "        os.rename(\n",
    "            os.path.join(img_path, '{}.jpg'.format(name)),\n",
    "            os.path.join(img_path, '{}.jpg'.format(uid, score))\n",
    "        )\n",
    "        \n",
    "        os.rename(\n",
    "            os.path.join(anno_path, '{}.xml'.format(name)),\n",
    "            os.path.join(anno_path, '{}.xml'.format(uid))\n",
    "        )\n",
    "        \n",
    "        table.append({\n",
    "            'uid': uid,\n",
    "            'score': score\n",
    "        })\n",
    "        \n",
    "    return table\n",
    "\n",
    "dirty_root_path = '/home/voyager/data/root/dirty/'\n"
   ]
  },
  {
   "cell_type": "code",
   "execution_count": 72,
   "metadata": {},
   "outputs": [
    {
     "name": "stderr",
     "output_type": "stream",
     "text": [
      "100%|██████████| 1137/1137 [00:12<00:00, 90.23it/s]\n"
     ]
    }
   ],
   "source": [
    "img1_path = os.path.join(dirty_root_path, 'img_1')\n",
    "convert_imgs(img1_path)"
   ]
  },
  {
   "cell_type": "code",
   "execution_count": 73,
   "metadata": {},
   "outputs": [
    {
     "name": "stderr",
     "output_type": "stream",
     "text": [
      "100%|██████████| 447/447 [00:06<00:00, 70.72it/s]\n"
     ]
    }
   ],
   "source": [
    "img2_path = os.path.join(dirty_root_path, 'img_2')\n",
    "convert_imgs(img2_path)"
   ]
  },
  {
   "cell_type": "code",
   "execution_count": 78,
   "metadata": {},
   "outputs": [
    {
     "name": "stderr",
     "output_type": "stream",
     "text": [
      "100%|██████████| 39/39 [00:00<00:00, 79.31it/s]\n"
     ]
    }
   ],
   "source": [
    "img3_path = os.path.join(dirty_root_path, 'img_3')\n",
    "convert_imgs(img3_path)"
   ]
  },
  {
   "cell_type": "markdown",
   "metadata": {},
   "source": [
    "please remove non-jpeg files under image folders"
   ]
  },
  {
   "cell_type": "markdown",
   "metadata": {},
   "source": [
    "there's a sample called 33（73), please change both jpg and xml to 33(73) by hand"
   ]
  },
  {
   "cell_type": "code",
   "execution_count": 74,
   "metadata": {},
   "outputs": [
    {
     "name": "stderr",
     "output_type": "stream",
     "text": [
      "100%|██████████| 1111/1111 [00:00<00:00, 19156.80it/s]\n"
     ]
    }
   ],
   "source": [
    "table_1 = convert_names(dirty_root_path, 1)"
   ]
  },
  {
   "cell_type": "code",
   "execution_count": 75,
   "metadata": {},
   "outputs": [
    {
     "name": "stderr",
     "output_type": "stream",
     "text": [
      "100%|██████████| 434/434 [00:00<00:00, 11176.71it/s]\n"
     ]
    }
   ],
   "source": [
    "table_2 = convert_names(dirty_root_path, 2)"
   ]
  },
  {
   "cell_type": "code",
   "execution_count": 79,
   "metadata": {},
   "outputs": [
    {
     "name": "stderr",
     "output_type": "stream",
     "text": [
      "100%|██████████| 39/39 [00:00<00:00, 7487.09it/s]\n"
     ]
    }
   ],
   "source": [
    "table_3 = convert_names(dirty_root_path, 3)"
   ]
  },
  {
   "cell_type": "markdown",
   "metadata": {},
   "source": [
    "now, export score list"
   ]
  },
  {
   "cell_type": "code",
   "execution_count": 80,
   "metadata": {},
   "outputs": [
    {
     "name": "stdout",
     "output_type": "stream",
     "text": [
      "/home/voyager/data/root/score.csv\n"
     ]
    }
   ],
   "source": [
    "table = table_1.copy()\n",
    "table.extend(table_2)\n",
    "table.extend(table_3)\n",
    "\n",
    "score_path = os.path.join(root_path, 'score.csv')\n",
    "print(score_path)\n",
    "\n",
    "with open(score_path, 'w') as score_csv:\n",
    "    score_csv.write('id,score\\n')\n",
    "    \n",
    "    for score in table:\n",
    "        score_csv.write('{},{}\\n'.format(score['uid'], score['score']))\n"
   ]
  },
  {
   "cell_type": "markdown",
   "metadata": {},
   "source": [
    "Now copy images to JPEGImages/, annotations to Annotations/"
   ]
  },
  {
   "cell_type": "markdown",
   "metadata": {},
   "source": [
    "let's try to read with voc dataset"
   ]
  },
  {
   "cell_type": "code",
   "execution_count": 1,
   "metadata": {},
   "outputs": [
    {
     "name": "stdout",
     "output_type": "stream",
     "text": [
      "anno: (tensor([0, 1]), tensor([[364., 167., 487., 402.],\n",
      "        [350.,  85., 488., 401.]]))\n",
      "anno: (tensor([0, 1]), tensor([[257., 225., 334., 384.],\n",
      "        [203., 226., 335., 556.]]))\n",
      "anno: (tensor([0, 1]), tensor([[ 76., 128., 222., 394.],\n",
      "        [ 77.,   1., 257., 396.]]))\n",
      "anno: (tensor([0, 1]), tensor([[522.,  83., 738., 495.],\n",
      "        [523.,  85., 820., 745.]]))\n",
      "[(tensor([0, 1]), tensor([[364., 167., 487., 402.],\n",
      "        [350.,  85., 488., 401.]])), (tensor([0, 1]), tensor([[257., 225., 334., 384.],\n",
      "        [203., 226., 335., 556.]])), (tensor([0, 1]), tensor([[ 76., 128., 222., 394.],\n",
      "        [ 77.,   1., 257., 396.]])), (tensor([0, 1]), tensor([[522.,  83., 738., 495.],\n",
      "        [523.,  85., 820., 745.]]))]\n"
     ]
    }
   ],
   "source": [
    "from dataset import voc\n",
    "import torch\n",
    "from torch.utils.data import DataLoader\n",
    "import torchvision.transforms as trans\n",
    "import matplotlib.pyplot as plt\n",
    "import numpy as np\n",
    "\n",
    "# consts\n",
    "split_name = 'voc-1'\n",
    "root_path = '/home/voyager/data/root/voc/'\n",
    "\n",
    "train_trans = trans.Compose([\n",
    "    trans.Resize((600, 600)),\n",
    "    trans.ToTensor()\n",
    "])\n",
    "\n",
    "# train set\n",
    "train_set = voc.VOCDetection(\n",
    "    root_path,\n",
    "    image_set=\"voc-1_train\",\n",
    "    transforms=train_trans\n",
    ")\n",
    "\n",
    "train_loader = DataLoader(\n",
    "    train_set,\n",
    "    batch_size=4,\n",
    "    shuffle=True,\n",
    "    collate_fn=voc.collate\n",
    ")\n",
    "\n",
    "for i, batch in enumerate(train_loader):\n",
    "    imgs, annos = batch\n",
    "    \n",
    "    img = imgs[0].numpy()\n",
    "    img = np.transpose(img, (1, 2, 0))\n",
    "    \n",
    "    plt.imshow(img)\n",
    "    \n",
    "    break\n",
    "    "
   ]
  },
  {
   "cell_type": "code",
   "execution_count": null,
   "metadata": {},
   "outputs": [],
   "source": []
  },
  {
   "cell_type": "code",
   "execution_count": null,
   "metadata": {},
   "outputs": [],
   "source": []
  }
 ],
 "metadata": {
  "kernelspec": {
   "display_name": "Python 3",
   "language": "python",
   "name": "python3"
  },
  "language_info": {
   "codemirror_mode": {
    "name": "ipython",
    "version": 3
   },
   "file_extension": ".py",
   "mimetype": "text/x-python",
   "name": "python",
   "nbconvert_exporter": "python",
   "pygments_lexer": "ipython3",
   "version": "3.6.8"
  }
 },
 "nbformat": 4,
 "nbformat_minor": 2
}
