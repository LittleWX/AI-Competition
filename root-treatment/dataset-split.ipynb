{
 "cells": [
  {
   "cell_type": "code",
   "execution_count": 39,
   "metadata": {},
   "outputs": [
    {
     "name": "stdout",
     "output_type": "stream",
     "text": [
      "0.4.1.post2\n"
     ]
    }
   ],
   "source": [
    "import os\n",
    "import sys\n",
    "import random\n",
    "from tqdm import tqdm\n",
    "import torch\n",
    "\n",
    "print(torch.__version__)"
   ]
  },
  {
   "cell_type": "code",
   "execution_count": 82,
   "metadata": {},
   "outputs": [],
   "source": [
    "# consts\n",
    "split_name = 'voc-1'\n",
    "root_path = '/home/voyager/data/root/voc/'\n",
    "train_ratio = 0.8\n",
    "\n",
    "image_path = os.path.join(root_path, 'JPEGImages')\n",
    "anno_path = os.path.join(root_path, 'Annotations')\n",
    "split_path = os.path.join(root_path, 'ImageSets/Main')\n",
    "\n",
    "# list annotation\n",
    "anno_file_list = os.listdir(anno_path)\n",
    "anno_list = [anno_file.split('.')[0] for anno_file in anno_file_list]\n",
    "\n",
    "# sample\n",
    "train_list = random.sample(anno_list, int(len(anno_list) * train_ratio))\n",
    "\n",
    "val_list = []\n",
    "for anno in anno_list:\n",
    "    if anno not in train_list:\n",
    "        val_list.append(anno)\n",
    "        \n",
    "# save\n",
    "with open(os.path.join(split_path, '{}_{}.txt'.format(\n",
    "    split_name,\n",
    "    'train'\n",
    ")), 'w') as train_file:\n",
    "    for train_anno in train_list:\n",
    "        train_file.write('{}\\n'.format(train_anno))\n",
    "        \n",
    "with open(os.path.join(split_path, '{}_{}.txt'.format(\n",
    "    split_name,\n",
    "    'val'\n",
    ")), 'w') as val_file:\n",
    "    for val_anno in val_list:\n",
    "        val_file.write('{}\\n'.format(val_anno))\n",
    "        "
   ]
  },
  {
   "cell_type": "markdown",
   "metadata": {},
   "source": [
    "## some dirty work"
   ]
  },
  {
   "cell_type": "code",
   "execution_count": 68,
   "metadata": {},
   "outputs": [],
   "source": [
    "import PIL.Image\n",
    "import uuid\n",
    "\n",
    "# convert to jpg\n",
    "def convert_imgs(img_path):\n",
    "    img_list = os.listdir(img_path)\n",
    "    \n",
    "    for filename in tqdm(img_list):\n",
    "        arr = filename.split('.')\n",
    "\n",
    "        im = PIL.Image.open(os.path.join(img_path, filename))\n",
    "        \n",
    "        # we have read image, remove the original one\n",
    "        os.remove(os.path.join(img_path, filename))\n",
    "        \n",
    "        im = im.convert('RGB')\n",
    "        im.save(os.path.join(img_path, '{}.jpg'.format(arr[0])))\n",
    "        \n",
    "# rename with uuid\n",
    "def convert_names(root_path, no):\n",
    "    img_path = os.path.join(root_path, 'img_{}/'.format(no))\n",
    "    anno_path = os.path.join(root_path, 'anno_{}/'.format(no))\n",
    "    \n",
    "    img_list = os.listdir(img_path)\n",
    "    anno_list = os.listdir(anno_path)\n",
    "    \n",
    "    table = []\n",
    "    \n",
    "    for anno_file in tqdm(anno_list):\n",
    "        arr = anno_file.split('.')\n",
    "        name = arr[0]\n",
    "        \n",
    "        if len(name.split('-')) > 1:\n",
    "            score = int(name.split('-')[1])\n",
    "        elif len(name.split('(')) > 1:\n",
    "            score = name.split('(')[1]\n",
    "            score = int(score.split(')')[0])\n",
    "        elif len(name.split('（')) > 1:\n",
    "            score = name.split('（')[1]\n",
    "            score = int(score.split('）')[0])\n",
    "        else:\n",
    "            print(name)\n",
    "            \n",
    "        uid = uuid.uuid4()\n",
    "        \n",
    "        os.rename(\n",
    "            os.path.join(img_path, '{}.jpg'.format(name)),\n",
    "            os.path.join(img_path, '{}.jpg'.format(uid, score))\n",
    "        )\n",
    "        \n",
    "        os.rename(\n",
    "            os.path.join(anno_path, '{}.xml'.format(name)),\n",
    "            os.path.join(anno_path, '{}.xml'.format(uid))\n",
    "        )\n",
    "        \n",
    "        table.append({\n",
    "            'uid': uid,\n",
    "            'score': score\n",
    "        })\n",
    "        \n",
    "    return table\n",
    "\n",
    "dirty_root_path = '/home/voyager/data/root/dirty/'\n"
   ]
  },
  {
   "cell_type": "code",
   "execution_count": 72,
   "metadata": {},
   "outputs": [
    {
     "name": "stderr",
     "output_type": "stream",
     "text": [
      "100%|██████████| 1137/1137 [00:12<00:00, 90.23it/s]\n"
     ]
    }
   ],
   "source": [
    "img1_path = os.path.join(dirty_root_path, 'img_1')\n",
    "convert_imgs(img1_path)"
   ]
  },
  {
   "cell_type": "code",
   "execution_count": 73,
   "metadata": {},
   "outputs": [
    {
     "name": "stderr",
     "output_type": "stream",
     "text": [
      "100%|██████████| 447/447 [00:06<00:00, 70.72it/s]\n"
     ]
    }
   ],
   "source": [
    "img2_path = os.path.join(dirty_root_path, 'img_2')\n",
    "convert_imgs(img2_path)"
   ]
  },
  {
   "cell_type": "code",
   "execution_count": 78,
   "metadata": {},
   "outputs": [
    {
     "name": "stderr",
     "output_type": "stream",
     "text": [
      "100%|██████████| 39/39 [00:00<00:00, 79.31it/s]\n"
     ]
    }
   ],
   "source": [
    "img3_path = os.path.join(dirty_root_path, 'img_3')\n",
    "convert_imgs(img3_path)"
   ]
  },
  {
   "cell_type": "markdown",
   "metadata": {},
   "source": [
    "please remove non-jpeg files under image folders"
   ]
  },
  {
   "cell_type": "markdown",
   "metadata": {},
   "source": [
    "there's a sample called 33（73), please change both jpg and xml to 33(73) by hand"
   ]
  },
  {
   "cell_type": "code",
   "execution_count": 74,
   "metadata": {},
   "outputs": [
    {
     "name": "stderr",
     "output_type": "stream",
     "text": [
      "100%|██████████| 1111/1111 [00:00<00:00, 19156.80it/s]\n"
     ]
    }
   ],
   "source": [
    "table_1 = convert_names(dirty_root_path, 1)"
   ]
  },
  {
   "cell_type": "code",
   "execution_count": 75,
   "metadata": {},
   "outputs": [
    {
     "name": "stderr",
     "output_type": "stream",
     "text": [
      "100%|██████████| 434/434 [00:00<00:00, 11176.71it/s]\n"
     ]
    }
   ],
   "source": [
    "table_2 = convert_names(dirty_root_path, 2)"
   ]
  },
  {
   "cell_type": "code",
   "execution_count": 79,
   "metadata": {},
   "outputs": [
    {
     "name": "stderr",
     "output_type": "stream",
     "text": [
      "100%|██████████| 39/39 [00:00<00:00, 7487.09it/s]\n"
     ]
    }
   ],
   "source": [
    "table_3 = convert_names(dirty_root_path, 3)"
   ]
  },
  {
   "cell_type": "markdown",
   "metadata": {},
   "source": [
    "now, export score list"
   ]
  },
  {
   "cell_type": "code",
   "execution_count": 80,
   "metadata": {},
   "outputs": [
    {
     "name": "stdout",
     "output_type": "stream",
     "text": [
      "/home/voyager/data/root/score.csv\n"
     ]
    }
   ],
   "source": [
    "table = table_1.copy()\n",
    "table.extend(table_2)\n",
    "table.extend(table_3)\n",
    "\n",
    "score_path = os.path.join(root_path, 'score.csv')\n",
    "print(score_path)\n",
    "\n",
    "with open(score_path, 'w') as score_csv:\n",
    "    score_csv.write('id,score\\n')\n",
    "    \n",
    "    for score in table:\n",
    "        score_csv.write('{},{}\\n'.format(score['uid'], score['score']))\n"
   ]
  },
  {
   "cell_type": "markdown",
   "metadata": {},
   "source": [
    "Now copy images to JPEGImages/, annotations to Annotations/"
   ]
  },
  {
   "cell_type": "markdown",
   "metadata": {},
   "source": [
    "let's try to read with voc dataset"
   ]
  },
  {
   "cell_type": "code",
   "execution_count": 32,
   "metadata": {},
   "outputs": [
    {
     "name": "stderr",
     "output_type": "stream",
     "text": [
      "Clipping input data to the valid range for imshow with RGB data ([0..1] for floats or [0..255] for integers).\n"
     ]
    },
    {
     "name": "stdout",
     "output_type": "stream",
     "text": [
      "BoundingBoxesOnImage([BoundingBox(x1=423.0000, y1=158.0000, x2=503.0000, y2=334.0000, label=None), BoundingBox(x1=409.0000, y1=86.0000, x2=504.0000, y2=334.0000, label=None)], shape=(478, 616, 3))\n",
      "[BoundingBox(x1=436.0000, y1=168.0000, x2=516.0000, y2=344.0000, label=None), BoundingBox(x1=422.0000, y1=96.0000, x2=517.0000, y2=344.0000, label=None)]\n",
      "0.800000011920929 0.05882352963089943 [(tensor([0, 1]), tensor([[336.3684, 236.0210, 402.6089, 377.4745],\n",
      "        [325.2050, 178.4143, 404.4084, 377.4884]], dtype=torch.float64))]\n"
     ]
    },
    {
     "data": {
      "image/png": "[encoded data removed]",
      "text/plain": [
       "<Figure size 576x512 with 1 Axes>"
      ]
     },
     "metadata": {
      "needs_background": "light"
     },
     "output_type": "display_data"
    }
   ],
   "source": [
    "from dataset import voc\n",
    "import torch\n",
    "from torch.utils.data import DataLoader\n",
    "import torchvision.transforms as trans\n",
    "import matplotlib.pyplot as plt\n",
    "import numpy as np\n",
    "from PIL import Image, ImageOps\n",
    "import imgaug as ia\n",
    "import imgaug.augmenters as iaa\n",
    "from imgaug.augmentables.bbs import BoundingBox, BoundingBoxesOnImage\n",
    "from retinanet import transforms as aug\n",
    "\n",
    "# consts\n",
    "split_name = 'voc-1'\n",
    "root_path = '/home/voyager/data/root/voc/'\n",
    "image_size = 512\n",
    "\n",
    "def show_bbs(img, anno):\n",
    "    gts = anno[1].numpy()\n",
    "    np_img = img.to(dtype=torch.float32).cpu().numpy()\n",
    "    np_img = np.transpose(np_img, (1, 2, 0))\n",
    "\n",
    "    bbs = []\n",
    "    for gt in gts:\n",
    "        bbs.append(BoundingBox(x1=gt[0], y1=gt[1], x2=gt[2], y2=gt[3]))\n",
    "\n",
    "    bbs_on_img = BoundingBoxesOnImage(bbs, shape=np_img.shape)\n",
    "    draw_img = bbs_on_img.draw_on_image(np_img, size=2)\n",
    "    ia.imshow(draw_img)\n",
    "\n",
    "train_trans = aug.Compose([\n",
    "    aug.RandomCropAndPad(),\n",
    "    aug.Pad(), # pad to square image\n",
    "    aug.Resize(image_size, image_size),\n",
    "    aug.RandomFlipLeftRight(0.5),\n",
    "    aug.RandomFlipUpDown(0.5),\n",
    "    aug.RandomRotate(5),\n",
    "    aug.RandomTranslatePc(50, 50),\n",
    "    aug.AutoLevel(min_level_rate=1, max_level_rate=1),\n",
    "    aug.AutoContrast(),\n",
    "    aug.RandomContrast(0.5),\n",
    "    aug.Contrast(1.25),\n",
    "    aug.RandomChoice([\n",
    "        aug.RandomSaltPepperNoise(0.9, 0.5),\n",
    "        aug.RandomSaltPepperNoise(0.95, 0.5),\n",
    "        aug.RandomSaltPepperNoise(0.99, 0.5)\n",
    "    ]),\n",
    "    aug.ToTensor(),\n",
    "    # aug.Normalize(mean=(0.485, 0.456, 0.406), std=(0.229, 0.224, 0.225)) # mean and std of pretrained model\n",
    "])\n",
    "\n",
    "# train set\n",
    "train_set = voc.VOCDetection(\n",
    "    root_path,\n",
    "    image_set=\"voc-1_train\",\n",
    "    transforms=train_trans\n",
    ")\n",
    "\n",
    "train_loader = DataLoader(\n",
    "    train_set,\n",
    "    batch_size=1,\n",
    "    shuffle=False,\n",
    "    collate_fn=voc.collate\n",
    ")\n",
    "\n",
    "for i, batch in enumerate(train_loader):\n",
    "    imgs, annos = batch\n",
    "    \n",
    "    print(torch.max(imgs).item(), torch.min(imgs).item(), annos)\n",
    "    show_bbs(imgs[0], annos[0])\n",
    "    \n",
    "    break\n",
    "    "
   ]
  },
  {
   "cell_type": "markdown",
   "metadata": {},
   "source": [
    "# Scoring dataset creation"
   ]
  },
  {
   "cell_type": "code",
   "execution_count": 46,
   "metadata": {},
   "outputs": [],
   "source": [
    "# helper\n",
    "import collections\n",
    "import pandas as pd\n",
    "\n",
    "if sys.version_info[0] == 2:\n",
    "    import xml.etree.cElementTree as ET\n",
    "else:\n",
    "    import xml.etree.ElementTree as ET\n",
    "\n",
    "from dataset import voc\n",
    "    \n",
    "def parse_voc_xml(node):\n",
    "    voc_dict = {}\n",
    "    children = list(node)\n",
    "    if children:\n",
    "        def_dic = collections.defaultdict(list)\n",
    "        for dc in map(parse_voc_xml, children):\n",
    "            for ind, v in dc.items():\n",
    "                def_dic[ind].append(v)\n",
    "        voc_dict = {\n",
    "            node.tag:\n",
    "                {ind: v[0] if len(v) == 1 else v\n",
    "                 for ind, v in def_dic.items()}\n",
    "        }\n",
    "    if node.text:\n",
    "        text = node.text.strip()\n",
    "        if not children:\n",
    "            voc_dict[node.tag] = text\n",
    "    return voc_dict"
   ]
  },
  {
   "cell_type": "code",
   "execution_count": 51,
   "metadata": {},
   "outputs": [
    {
     "name": "stdout",
     "output_type": "stream",
     "text": [
      "                                     id  score\n",
      "0  feeb05d5-1922-408d-9615-126e7bca0f9d     78\n",
      "1  ff6f9ea2-d2e9-443d-b217-e77f5b5c1ab6     78\n",
      "2  d5b31460-8be6-4491-a8b6-33186ab480f7     75\n",
      "3  e425215c-a59c-48a6-b8c4-4db4eb08e842     75\n",
      "4  684f631f-0a26-4dca-828b-518a459d4dbc    102\n"
     ]
    }
   ],
   "source": [
    "# expand score.csv to bbox_score.csv\n",
    "\n",
    "root_path = '/home/voyager/data/root/'\n",
    "voc_path = os.path.join(root_path, 'voc')\n",
    "anno_path = os.path.join(voc_path, 'Annotations')\n",
    "score_filename = 'score.csv'\n",
    "result_filename = 'bbox_score.csv'\n",
    "\n",
    "score_path = os.path.join(root_path, score_filename)\n",
    "score_df = pd.read_csv(score_path)\n",
    "\n",
    "print(score_df.head(5))\n",
    "\n",
    "uid_list = score_df['id']\n",
    "score_list = score_df['score']\n",
    "\n",
    "with open(os.path.join(root_path, result_filename), 'w') as result_csv:\n",
    "    result_csv.write('id,serial,class,score,x1,y1,x2,y2,prob\\n')\n",
    "    \n",
    "    for uid, score in zip(uid_list, score_list):\n",
    "        # read xml annotation\n",
    "        xml_path = os.path.join(anno_path, '{}.xml'.format(uid))\n",
    "        target = parse_voc_xml(\n",
    "            ET.parse(xml_path).getroot()\n",
    "        )\n",
    "        anno = voc.convert_voc_2_retina(target, voc.RETINA_CLASSES)\n",
    "\n",
    "        for i, data in enumerate(zip(anno[0], anno[1])):\n",
    "            class_no, bbox = data\n",
    "            \n",
    "            result_csv.write('{},{},{},{},{},{},{},{},{}\\n'.format(\n",
    "                uid,\n",
    "                i,\n",
    "                class_no,\n",
    "                score,\n",
    "                bbox[0],\n",
    "                bbox[1],\n",
    "                bbox[2],\n",
    "                bbox[3],\n",
    "                1.0\n",
    "            ))\n",
    "    "
   ]
  },
  {
   "cell_type": "markdown",
   "metadata": {},
   "source": [
    "now, split into train and val datasets"
   ]
  },
  {
   "cell_type": "code",
   "execution_count": 58,
   "metadata": {},
   "outputs": [
    {
     "name": "stdout",
     "output_type": "stream",
     "text": [
      "total: 3783, root: 1948, tooth: 1835\n",
      "total: 1948, train: 1558, val: 390\n"
     ]
    }
   ],
   "source": [
    "# consts\n",
    "split_name = 'score-1'\n",
    "root_path = '/home/voyager/data/root/'\n",
    "bbox_score_filename = 'bbox_score.csv'\n",
    "train_ratio = 0.8\n",
    "root_only = True\n",
    "\n",
    "bbox_score_df = pd.read_csv(os.path.join(root_path, bbox_score_filename))\n",
    "\n",
    "print('total: {}, root: {}, tooth: {}'.format(\n",
    "    len(bbox_score_df),\n",
    "    len(bbox_score_df[bbox_score_df['class'] == 0]),\n",
    "    len(bbox_score_df[bbox_score_df['class'] == 1])\n",
    "))\n",
    "\n",
    "if root_only:\n",
    "    bbox_score_df = bbox_score_df[bbox_score_df['class'] == 0]\n",
    "\n",
    "train_score_df = bbox_score_df.sample(frac=train_ratio)\n",
    "val_score_df = bbox_score_df.drop(train_score_df.index)\n",
    "\n",
    "print('total: {}, train: {}, val: {}'.format(\n",
    "    len(bbox_score_df),\n",
    "    len(train_score_df),\n",
    "    len(val_score_df)\n",
    "))\n",
    "\n",
    "train_score_df.to_csv(os.path.join(root_path, '{}_train.csv'.format(split_name)), index=False)\n",
    "val_score_df.to_csv(os.path.join(root_path, '{}_val.csv'.format(split_name)), index=False)"
   ]
  },
  {
   "cell_type": "code",
   "execution_count": null,
   "metadata": {},
   "outputs": [],
   "source": []
  }
 ],
 "metadata": {
  "kernelspec": {
   "display_name": "Python 3",
   "language": "python",
   "name": "python3"
  },
  "language_info": {
   "codemirror_mode": {
    "name": "ipython",
    "version": 3
   },
   "file_extension": ".py",
   "mimetype": "text/x-python",
   "name": "python",
   "nbconvert_exporter": "python",
   "pygments_lexer": "ipython3",
   "version": "3.7.0"
  }
 },
 "nbformat": 4,
 "nbformat_minor": 2
}
